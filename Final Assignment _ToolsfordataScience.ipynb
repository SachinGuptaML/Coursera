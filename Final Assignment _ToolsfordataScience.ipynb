{
 "cells": [
  {
   "cell_type": "markdown",
   "id": "1b62954a",
   "metadata": {},
   "source": [
    "# My Jupyter Notebook on IBM Watson Studio"
   ]
  },
  {
   "cell_type": "markdown",
   "id": "3c286b0c",
   "metadata": {},
   "source": [
    "# Name - Sachinkumar Gupta\n",
    "My Desire Occupation is ML Engineer\n"
   ]
  },
  {
   "cell_type": "markdown",
   "id": "0c3f7a73",
   "metadata": {},
   "source": [
    "*I am interested in data science because there is going to be great job demand for Data scienceist in the upcoming days. This job is very much suits to my personality, because i am very much interovert. I like to play with data for hours. I don't have to interact with anyone. Data scienceist spends most of their time in analyzing data*"
   ]
  },
  {
   "cell_type": "markdown",
   "id": "8e65c244",
   "metadata": {},
   "source": [
    "### In the below code we are doing mutiplication of 12 for 8 times. we have assinged our code into variable (a), and printing variable a."
   ]
  },
  {
   "cell_type": "code",
   "execution_count": 7,
   "id": "425ebbd9",
   "metadata": {},
   "outputs": [
    {
     "name": "stdout",
     "output_type": "stream",
     "text": [
      "96\n"
     ]
    }
   ],
   "source": [
    "a= 12*8\n",
    "print(a)"
   ]
  },
  {
   "cell_type": "markdown",
   "id": "8248cc5b",
   "metadata": {},
   "source": [
    "|Year 2005-2010 | Year 2011-2015| Year 2016-2020|\n",
    "|------------| ------------   | ----------------|\n",
    "|Vikrat Kholi| Sachin Tendulkar | Rahul Dravid  |\n",
    "| Best captian | Best Bastsman  | Wicket saver |\n",
    "\n",
    "\n",
    "Three ~~better~~ Best Bastsman in India\n",
    "\n",
    "* Kapil Dev\n",
    "* Virendar Shewag\n",
    "* Yuvraj Shing\n",
    "\n",
    "Three ~~better~~ Best Bowler in India\n",
    "\n",
    "1. Zaheer Khan\n",
    "2. Anil Kumble\n",
    "3. Sunil Dutt\n",
    "\n",
    "[Sachin Tendulkar has scored highest score in cricket history](https://en.wikipedia.org/wiki/Sachin_Tendulkar)\n",
    "\n",
    "\n",
    "India won *only* **once** in cricket world cup. Not sure why they always **lose** match in final Match "
   ]
  },
  {
   "cell_type": "code",
   "execution_count": null,
   "id": "6eda13f4",
   "metadata": {},
   "outputs": [],
   "source": []
  },
  {
   "cell_type": "code",
   "execution_count": null,
   "id": "bfb27085",
   "metadata": {},
   "outputs": [],
   "source": []
  }
 ],
 "metadata": {
  "kernelspec": {
   "display_name": "Python 3",
   "language": "python",
   "name": "python3"
  },
  "language_info": {
   "codemirror_mode": {
    "name": "ipython",
    "version": 3
   },
   "file_extension": ".py",
   "mimetype": "text/x-python",
   "name": "python",
   "nbconvert_exporter": "python",
   "pygments_lexer": "ipython3",
   "version": "3.8.8"
  }
 },
 "nbformat": 4,
 "nbformat_minor": 5
}
